{
 "cells": [
  {
   "cell_type": "code",
   "execution_count": 297,
   "metadata": {},
   "outputs": [],
   "source": [
    "#ohm shree vinayaka"
   ]
  },
  {
   "cell_type": "code",
   "execution_count": 298,
   "metadata": {},
   "outputs": [],
   "source": [
    "import pandas as pd\n",
    "import numpy as np\n"
   ]
  },
  {
   "cell_type": "code",
   "execution_count": 299,
   "metadata": {},
   "outputs": [
    {
     "data": {
      "text/html": [
       "<div>\n",
       "<style scoped>\n",
       "    .dataframe tbody tr th:only-of-type {\n",
       "        vertical-align: middle;\n",
       "    }\n",
       "\n",
       "    .dataframe tbody tr th {\n",
       "        vertical-align: top;\n",
       "    }\n",
       "\n",
       "    .dataframe thead th {\n",
       "        text-align: right;\n",
       "    }\n",
       "</style>\n",
       "<table border=\"1\" class=\"dataframe\">\n",
       "  <thead>\n",
       "    <tr style=\"text-align: right;\">\n",
       "      <th></th>\n",
       "      <th>disease</th>\n",
       "      <th>agitation</th>\n",
       "      <th>ambidexterity</th>\n",
       "      <th>angina pectoris</th>\n",
       "      <th>anorexia</th>\n",
       "      <th>apyrexial</th>\n",
       "      <th>asterixis</th>\n",
       "      <th>asthenia</th>\n",
       "      <th>ataxia</th>\n",
       "      <th>aura</th>\n",
       "      <th>...</th>\n",
       "      <th>clammy skin</th>\n",
       "      <th>weakness/instability in knee</th>\n",
       "      <th>popping or crunching noises in knee</th>\n",
       "      <th>redness or warmth to touch</th>\n",
       "      <th>inability to fully straighten the knee</th>\n",
       "      <th>postnasal drip</th>\n",
       "      <th>greenish nasal discharge</th>\n",
       "      <th>tenderness in face</th>\n",
       "      <th>pain in teeth</th>\n",
       "      <th>nasal stffiness/congestion</th>\n",
       "    </tr>\n",
       "  </thead>\n",
       "  <tbody>\n",
       "    <tr>\n",
       "      <th>0</th>\n",
       "      <td>lower back pain</td>\n",
       "      <td>0</td>\n",
       "      <td>0</td>\n",
       "      <td>0</td>\n",
       "      <td>0</td>\n",
       "      <td>0</td>\n",
       "      <td>0</td>\n",
       "      <td>0</td>\n",
       "      <td>0</td>\n",
       "      <td>0</td>\n",
       "      <td>...</td>\n",
       "      <td>0</td>\n",
       "      <td>0</td>\n",
       "      <td>0</td>\n",
       "      <td>0</td>\n",
       "      <td>0</td>\n",
       "      <td>0</td>\n",
       "      <td>0</td>\n",
       "      <td>0</td>\n",
       "      <td>0</td>\n",
       "      <td>0</td>\n",
       "    </tr>\n",
       "    <tr>\n",
       "      <th>1</th>\n",
       "      <td>hernia hiatal</td>\n",
       "      <td>0</td>\n",
       "      <td>0</td>\n",
       "      <td>0</td>\n",
       "      <td>0</td>\n",
       "      <td>0</td>\n",
       "      <td>0</td>\n",
       "      <td>0</td>\n",
       "      <td>0</td>\n",
       "      <td>0</td>\n",
       "      <td>...</td>\n",
       "      <td>0</td>\n",
       "      <td>0</td>\n",
       "      <td>0</td>\n",
       "      <td>0</td>\n",
       "      <td>0</td>\n",
       "      <td>0</td>\n",
       "      <td>0</td>\n",
       "      <td>0</td>\n",
       "      <td>0</td>\n",
       "      <td>0</td>\n",
       "    </tr>\n",
       "    <tr>\n",
       "      <th>2</th>\n",
       "      <td>lower back pain</td>\n",
       "      <td>0</td>\n",
       "      <td>0</td>\n",
       "      <td>0</td>\n",
       "      <td>0</td>\n",
       "      <td>0</td>\n",
       "      <td>0</td>\n",
       "      <td>0</td>\n",
       "      <td>0</td>\n",
       "      <td>0</td>\n",
       "      <td>...</td>\n",
       "      <td>0</td>\n",
       "      <td>0</td>\n",
       "      <td>0</td>\n",
       "      <td>0</td>\n",
       "      <td>0</td>\n",
       "      <td>0</td>\n",
       "      <td>0</td>\n",
       "      <td>0</td>\n",
       "      <td>0</td>\n",
       "      <td>0</td>\n",
       "    </tr>\n",
       "    <tr>\n",
       "      <th>3</th>\n",
       "      <td>carcinoma prostate</td>\n",
       "      <td>0</td>\n",
       "      <td>0</td>\n",
       "      <td>0</td>\n",
       "      <td>0</td>\n",
       "      <td>0</td>\n",
       "      <td>0</td>\n",
       "      <td>0</td>\n",
       "      <td>1</td>\n",
       "      <td>0</td>\n",
       "      <td>...</td>\n",
       "      <td>0</td>\n",
       "      <td>0</td>\n",
       "      <td>0</td>\n",
       "      <td>0</td>\n",
       "      <td>0</td>\n",
       "      <td>0</td>\n",
       "      <td>0</td>\n",
       "      <td>0</td>\n",
       "      <td>0</td>\n",
       "      <td>0</td>\n",
       "    </tr>\n",
       "    <tr>\n",
       "      <th>4</th>\n",
       "      <td>shoulder bursitis</td>\n",
       "      <td>0</td>\n",
       "      <td>0</td>\n",
       "      <td>0</td>\n",
       "      <td>0</td>\n",
       "      <td>0</td>\n",
       "      <td>0</td>\n",
       "      <td>0</td>\n",
       "      <td>0</td>\n",
       "      <td>0</td>\n",
       "      <td>...</td>\n",
       "      <td>0</td>\n",
       "      <td>0</td>\n",
       "      <td>0</td>\n",
       "      <td>0</td>\n",
       "      <td>0</td>\n",
       "      <td>0</td>\n",
       "      <td>0</td>\n",
       "      <td>0</td>\n",
       "      <td>0</td>\n",
       "      <td>0</td>\n",
       "    </tr>\n",
       "  </tbody>\n",
       "</table>\n",
       "<p>5 rows × 233 columns</p>\n",
       "</div>"
      ],
      "text/plain": [
       "              disease  agitation  ambidexterity  angina pectoris  anorexia  \\\n",
       "0     lower back pain          0              0                0         0   \n",
       "1       hernia hiatal          0              0                0         0   \n",
       "2     lower back pain          0              0                0         0   \n",
       "3  carcinoma prostate          0              0                0         0   \n",
       "4   shoulder bursitis          0              0                0         0   \n",
       "\n",
       "   apyrexial  asterixis  asthenia  ataxia  aura             ...              \\\n",
       "0          0          0         0       0     0             ...               \n",
       "1          0          0         0       0     0             ...               \n",
       "2          0          0         0       0     0             ...               \n",
       "3          0          0         0       1     0             ...               \n",
       "4          0          0         0       0     0             ...               \n",
       "\n",
       "   clammy skin  weakness/instability in knee  \\\n",
       "0            0                             0   \n",
       "1            0                             0   \n",
       "2            0                             0   \n",
       "3            0                             0   \n",
       "4            0                             0   \n",
       "\n",
       "   popping or crunching noises in knee  redness or warmth to touch  \\\n",
       "0                                    0                           0   \n",
       "1                                    0                           0   \n",
       "2                                    0                           0   \n",
       "3                                    0                           0   \n",
       "4                                    0                           0   \n",
       "\n",
       "   inability to fully straighten the knee  postnasal drip  \\\n",
       "0                                       0               0   \n",
       "1                                       0               0   \n",
       "2                                       0               0   \n",
       "3                                       0               0   \n",
       "4                                       0               0   \n",
       "\n",
       "   greenish nasal discharge  tenderness in face  pain in teeth  \\\n",
       "0                         0                   0              0   \n",
       "1                         0                   0              0   \n",
       "2                         0                   0              0   \n",
       "3                         0                   0              0   \n",
       "4                         0                   0              0   \n",
       "\n",
       "   nasal stffiness/congestion  \n",
       "0                           0  \n",
       "1                           0  \n",
       "2                           0  \n",
       "3                           0  \n",
       "4                           0  \n",
       "\n",
       "[5 rows x 233 columns]"
      ]
     },
     "execution_count": 299,
     "metadata": {},
     "output_type": "execute_result"
    }
   ],
   "source": [
    "medical_data=pd.read_csv('medical_data.csv')\n",
    "medical_data.fillna(0, inplace=True)\n",
    "medical_data.head()"
   ]
  },
  {
   "cell_type": "code",
   "execution_count": 300,
   "metadata": {},
   "outputs": [
    {
     "data": {
      "text/plain": [
       "(5185, 233)"
      ]
     },
     "execution_count": 300,
     "metadata": {},
     "output_type": "execute_result"
    }
   ],
   "source": [
    "medical_data.shape"
   ]
  },
  {
   "cell_type": "code",
   "execution_count": 301,
   "metadata": {},
   "outputs": [],
   "source": [
    "X_data=medical_data.drop(['disease'],axis=1)"
   ]
  },
  {
   "cell_type": "code",
   "execution_count": 302,
   "metadata": {},
   "outputs": [],
   "source": [
    "#from sklearn.utils import resample\n",
    "#medical_data_sample = medical_data['disease']\n",
    "\n",
    " \n",
    "# Downsample majority class\n",
    "#medical_data_up = resample(medical_data,\n",
    "                                 #replace=True,    \n",
    "                                 #n_samples=5000,     # to match majority class\n",
    "                                 #random_state=123) # reproducible results\n",
    " \n"
   ]
  },
  {
   "cell_type": "code",
   "execution_count": 303,
   "metadata": {},
   "outputs": [],
   "source": [
    "X_data=medical_data.drop(['disease'],axis=1)\n"
   ]
  },
  {
   "cell_type": "code",
   "execution_count": 304,
   "metadata": {},
   "outputs": [],
   "source": [
    "Y_data=medical_data['disease']"
   ]
  },
  {
   "cell_type": "code",
   "execution_count": 305,
   "metadata": {},
   "outputs": [],
   "source": [
    "from sklearn.model_selection import train_test_split \n",
    "X_train, X_test, y_train, y_test = train_test_split(X_data,Y_data, train_size=0.7,test_size=0.3,random_state=112)"
   ]
  },
  {
   "cell_type": "code",
   "execution_count": 306,
   "metadata": {},
   "outputs": [],
   "source": [
    "from sklearn.naive_bayes import MultinomialNB\n",
    "mnb = MultinomialNB()\n",
    "\n",
    "# fit\n",
    "mnb.fit(X_train,y_train)\n",
    "\n",
    "# predict class\n",
    "y_pred_class = mnb.predict(X_test)\n",
    "\n",
    "# predict probabilities\n",
    "y_pred_proba = mnb.predict_proba(X_test)\n"
   ]
  },
  {
   "cell_type": "code",
   "execution_count": 307,
   "metadata": {},
   "outputs": [],
   "source": [
    "import pickle\n",
    "f = open('yoga_therpy.pickle', 'wb')\n",
    "pickle.dump(mnb, f)\n",
    "f.close() \n"
   ]
  },
  {
   "cell_type": "code",
   "execution_count": 308,
   "metadata": {},
   "outputs": [
    {
     "data": {
      "text/plain": [
       "(1556,)"
      ]
     },
     "execution_count": 308,
     "metadata": {},
     "output_type": "execute_result"
    }
   ],
   "source": [
    "y_pred_class.shape"
   ]
  },
  {
   "cell_type": "code",
   "execution_count": 309,
   "metadata": {},
   "outputs": [
    {
     "data": {
      "text/plain": [
       "(1556,)"
      ]
     },
     "execution_count": 309,
     "metadata": {},
     "output_type": "execute_result"
    }
   ],
   "source": [
    "y_test.shape"
   ]
  },
  {
   "cell_type": "code",
   "execution_count": 310,
   "metadata": {},
   "outputs": [
    {
     "data": {
      "text/plain": [
       "'obesity'"
      ]
     },
     "execution_count": 310,
     "metadata": {},
     "output_type": "execute_result"
    }
   ],
   "source": [
    "y_pred_class[3]"
   ]
  },
  {
   "cell_type": "code",
   "execution_count": 311,
   "metadata": {},
   "outputs": [
    {
     "data": {
      "text/plain": [
       "0.9993573264781491"
      ]
     },
     "execution_count": 311,
     "metadata": {},
     "output_type": "execute_result"
    }
   ],
   "source": [
    "from sklearn import metrics\n",
    "metrics.accuracy_score(y_test, y_pred_class)"
   ]
  },
  {
   "cell_type": "code",
   "execution_count": 312,
   "metadata": {},
   "outputs": [
    {
     "data": {
      "text/plain": [
       "array([[36,  0,  0, ...,  0,  0,  0],\n",
       "       [ 0, 33,  0, ...,  0,  0,  0],\n",
       "       [ 0,  0, 34, ...,  0,  0,  0],\n",
       "       ...,\n",
       "       [ 0,  0,  0, ..., 34,  0,  0],\n",
       "       [ 0,  0,  0, ...,  0, 47,  0],\n",
       "       [ 0,  0,  0, ...,  0,  0, 47]], dtype=int64)"
      ]
     },
     "execution_count": 312,
     "metadata": {},
     "output_type": "execute_result"
    }
   ],
   "source": [
    "metrics.confusion_matrix(y_test, y_pred_class)"
   ]
  },
  {
   "cell_type": "code",
   "execution_count": 313,
   "metadata": {
    "scrolled": true
   },
   "outputs": [
    {
     "data": {
      "text/html": [
       "<div>\n",
       "<style scoped>\n",
       "    .dataframe tbody tr th:only-of-type {\n",
       "        vertical-align: middle;\n",
       "    }\n",
       "\n",
       "    .dataframe tbody tr th {\n",
       "        vertical-align: top;\n",
       "    }\n",
       "\n",
       "    .dataframe thead th {\n",
       "        text-align: right;\n",
       "    }\n",
       "</style>\n",
       "<table border=\"1\" class=\"dataframe\">\n",
       "  <thead>\n",
       "    <tr style=\"text-align: right;\">\n",
       "      <th></th>\n",
       "      <th>agitation</th>\n",
       "      <th>ambidexterity</th>\n",
       "      <th>angina pectoris</th>\n",
       "      <th>anorexia</th>\n",
       "      <th>apyrexial</th>\n",
       "      <th>asterixis</th>\n",
       "      <th>asthenia</th>\n",
       "      <th>ataxia</th>\n",
       "      <th>aura</th>\n",
       "      <th>bedridden</th>\n",
       "      <th>...</th>\n",
       "      <th>clammy skin</th>\n",
       "      <th>weakness/instability in knee</th>\n",
       "      <th>popping or crunching noises in knee</th>\n",
       "      <th>redness or warmth to touch</th>\n",
       "      <th>inability to fully straighten the knee</th>\n",
       "      <th>postnasal drip</th>\n",
       "      <th>greenish nasal discharge</th>\n",
       "      <th>tenderness in face</th>\n",
       "      <th>pain in teeth</th>\n",
       "      <th>nasal stffiness/congestion</th>\n",
       "    </tr>\n",
       "  </thead>\n",
       "  <tbody>\n",
       "    <tr>\n",
       "      <th>3806</th>\n",
       "      <td>0</td>\n",
       "      <td>0</td>\n",
       "      <td>0</td>\n",
       "      <td>0</td>\n",
       "      <td>0</td>\n",
       "      <td>0</td>\n",
       "      <td>0</td>\n",
       "      <td>0</td>\n",
       "      <td>0</td>\n",
       "      <td>0</td>\n",
       "      <td>...</td>\n",
       "      <td>0</td>\n",
       "      <td>0</td>\n",
       "      <td>0</td>\n",
       "      <td>0</td>\n",
       "      <td>0</td>\n",
       "      <td>0</td>\n",
       "      <td>0</td>\n",
       "      <td>0</td>\n",
       "      <td>0</td>\n",
       "      <td>0</td>\n",
       "    </tr>\n",
       "    <tr>\n",
       "      <th>3251</th>\n",
       "      <td>0</td>\n",
       "      <td>0</td>\n",
       "      <td>0</td>\n",
       "      <td>0</td>\n",
       "      <td>0</td>\n",
       "      <td>0</td>\n",
       "      <td>0</td>\n",
       "      <td>0</td>\n",
       "      <td>0</td>\n",
       "      <td>0</td>\n",
       "      <td>...</td>\n",
       "      <td>0</td>\n",
       "      <td>0</td>\n",
       "      <td>0</td>\n",
       "      <td>0</td>\n",
       "      <td>0</td>\n",
       "      <td>0</td>\n",
       "      <td>0</td>\n",
       "      <td>0</td>\n",
       "      <td>0</td>\n",
       "      <td>0</td>\n",
       "    </tr>\n",
       "    <tr>\n",
       "      <th>3522</th>\n",
       "      <td>0</td>\n",
       "      <td>0</td>\n",
       "      <td>0</td>\n",
       "      <td>0</td>\n",
       "      <td>0</td>\n",
       "      <td>0</td>\n",
       "      <td>0</td>\n",
       "      <td>0</td>\n",
       "      <td>0</td>\n",
       "      <td>0</td>\n",
       "      <td>...</td>\n",
       "      <td>0</td>\n",
       "      <td>0</td>\n",
       "      <td>0</td>\n",
       "      <td>0</td>\n",
       "      <td>0</td>\n",
       "      <td>0</td>\n",
       "      <td>0</td>\n",
       "      <td>0</td>\n",
       "      <td>0</td>\n",
       "      <td>0</td>\n",
       "    </tr>\n",
       "    <tr>\n",
       "      <th>1130</th>\n",
       "      <td>0</td>\n",
       "      <td>0</td>\n",
       "      <td>0</td>\n",
       "      <td>0</td>\n",
       "      <td>0</td>\n",
       "      <td>0</td>\n",
       "      <td>0</td>\n",
       "      <td>0</td>\n",
       "      <td>0</td>\n",
       "      <td>0</td>\n",
       "      <td>...</td>\n",
       "      <td>0</td>\n",
       "      <td>0</td>\n",
       "      <td>0</td>\n",
       "      <td>0</td>\n",
       "      <td>0</td>\n",
       "      <td>0</td>\n",
       "      <td>0</td>\n",
       "      <td>0</td>\n",
       "      <td>0</td>\n",
       "      <td>0</td>\n",
       "    </tr>\n",
       "    <tr>\n",
       "      <th>5075</th>\n",
       "      <td>0</td>\n",
       "      <td>0</td>\n",
       "      <td>0</td>\n",
       "      <td>0</td>\n",
       "      <td>0</td>\n",
       "      <td>0</td>\n",
       "      <td>0</td>\n",
       "      <td>0</td>\n",
       "      <td>0</td>\n",
       "      <td>0</td>\n",
       "      <td>...</td>\n",
       "      <td>0</td>\n",
       "      <td>1</td>\n",
       "      <td>1</td>\n",
       "      <td>0</td>\n",
       "      <td>1</td>\n",
       "      <td>0</td>\n",
       "      <td>0</td>\n",
       "      <td>0</td>\n",
       "      <td>0</td>\n",
       "      <td>0</td>\n",
       "    </tr>\n",
       "  </tbody>\n",
       "</table>\n",
       "<p>5 rows × 232 columns</p>\n",
       "</div>"
      ],
      "text/plain": [
       "      agitation  ambidexterity  angina pectoris  anorexia  apyrexial  \\\n",
       "3806          0              0                0         0          0   \n",
       "3251          0              0                0         0          0   \n",
       "3522          0              0                0         0          0   \n",
       "1130          0              0                0         0          0   \n",
       "5075          0              0                0         0          0   \n",
       "\n",
       "      asterixis  asthenia  ataxia  aura  bedridden  \\\n",
       "3806          0         0       0     0          0   \n",
       "3251          0         0       0     0          0   \n",
       "3522          0         0       0     0          0   \n",
       "1130          0         0       0     0          0   \n",
       "5075          0         0       0     0          0   \n",
       "\n",
       "                 ...              clammy skin  weakness/instability in knee  \\\n",
       "3806             ...                        0                             0   \n",
       "3251             ...                        0                             0   \n",
       "3522             ...                        0                             0   \n",
       "1130             ...                        0                             0   \n",
       "5075             ...                        0                             1   \n",
       "\n",
       "      popping or crunching noises in knee  redness or warmth to touch  \\\n",
       "3806                                    0                           0   \n",
       "3251                                    0                           0   \n",
       "3522                                    0                           0   \n",
       "1130                                    0                           0   \n",
       "5075                                    1                           0   \n",
       "\n",
       "      inability to fully straighten the knee  postnasal drip  \\\n",
       "3806                                       0               0   \n",
       "3251                                       0               0   \n",
       "3522                                       0               0   \n",
       "1130                                       0               0   \n",
       "5075                                       1               0   \n",
       "\n",
       "      greenish nasal discharge  tenderness in face  pain in teeth  \\\n",
       "3806                         0                   0              0   \n",
       "3251                         0                   0              0   \n",
       "3522                         0                   0              0   \n",
       "1130                         0                   0              0   \n",
       "5075                         0                   0              0   \n",
       "\n",
       "      nasal stffiness/congestion  \n",
       "3806                           0  \n",
       "3251                           0  \n",
       "3522                           0  \n",
       "1130                           0  \n",
       "5075                           0  \n",
       "\n",
       "[5 rows x 232 columns]"
      ]
     },
     "execution_count": 313,
     "metadata": {},
     "output_type": "execute_result"
    }
   ],
   "source": [
    "X_test.head()"
   ]
  },
  {
   "cell_type": "code",
   "execution_count": 314,
   "metadata": {},
   "outputs": [
    {
     "name": "stdout",
     "output_type": "stream",
     "text": [
      "Misclassified samples: 1\n",
      "Predected  classdepressive disorder\n",
      "Actual  classchronic alcoholic intoxication\n"
     ]
    }
   ],
   "source": [
    "count_misclassified = (y_test != y_pred_class).sum()\n",
    "print('Misclassified samples: {}'.format(count_misclassified))\n",
    "\n",
    "j=0;\n",
    "for i in y_test:\n",
    "    \n",
    "    if((y_pred_class[j])==i):    \n",
    "        j+=1\n",
    "       \n",
    "    else: \n",
    "       \n",
    "        print('Predected  class'+y_pred_class[j])   \n",
    "        print('Actual  class'+i)     \n",
    "        j+=1\n",
    "        \n",
    "\n",
    "    "
   ]
  },
  {
   "cell_type": "code",
   "execution_count": 315,
   "metadata": {},
   "outputs": [],
   "source": [
    "list_symptoms=['wheezing','chest tightness','non-productive cough']\n",
    "list_symptoms1=['fatigue','jugular venous distention','hypotension']\n",
    "list_symptoms2=['diarrhea','malaise','rale','fever']\n",
    "list_symptoms3=['motor retardation','irritable mood']\n",
    "list_symptoms4=['tired','fatigue','vomiting']\n",
    "list_symptoms5=['nausea','pain abdominal','haemorrhage']\n",
    "list_symptoms6=['overweight','shortness of breath','mood depressed']\n",
    "list_symptoms7=['fever','chill']\n",
    "list_symptoms8=['haemorrhage','food intolerance','sore to touch']\n",
    "list_symptoms9=['vomiting','nausea','diarrhea'],\n",
    "validation_df=X_test.iloc[0:1,:]"
   ]
  },
  {
   "cell_type": "code",
   "execution_count": 316,
   "metadata": {},
   "outputs": [
    {
     "data": {
      "text/plain": [
       "(1, 232)"
      ]
     },
     "execution_count": 316,
     "metadata": {},
     "output_type": "execute_result"
    }
   ],
   "source": [
    "validation_df.shape"
   ]
  },
  {
   "cell_type": "code",
   "execution_count": 317,
   "metadata": {
    "scrolled": true
   },
   "outputs": [
    {
     "name": "stderr",
     "output_type": "stream",
     "text": [
      "C:\\Users\\dkiran\\AppData\\Local\\Continuum\\anaconda3\\lib\\site-packages\\ipykernel_launcher.py:3: SettingWithCopyWarning: \n",
      "A value is trying to be set on a copy of a slice from a DataFrame.\n",
      "Try using .loc[row_indexer,col_indexer] = value instead\n",
      "\n",
      "See the caveats in the documentation: http://pandas.pydata.org/pandas-docs/stable/indexing.html#indexing-view-versus-copy\n",
      "  This is separate from the ipykernel package so we can avoid doing imports until\n"
     ]
    }
   ],
   "source": [
    "col_lst=validation_df.columns\n",
    "for i in col_lst:\n",
    "    validation_df[i]=0"
   ]
  },
  {
   "cell_type": "code",
   "execution_count": 318,
   "metadata": {},
   "outputs": [
    {
     "data": {
      "text/plain": [
       "(1, 232)"
      ]
     },
     "execution_count": 318,
     "metadata": {},
     "output_type": "execute_result"
    }
   ],
   "source": [
    "validation_df.shape"
   ]
  },
  {
   "cell_type": "code",
   "execution_count": 319,
   "metadata": {},
   "outputs": [
    {
     "name": "stderr",
     "output_type": "stream",
     "text": [
      "C:\\Users\\dkiran\\AppData\\Local\\Continuum\\anaconda3\\lib\\site-packages\\ipykernel_launcher.py:2: SettingWithCopyWarning: \n",
      "A value is trying to be set on a copy of a slice from a DataFrame.\n",
      "Try using .loc[row_indexer,col_indexer] = value instead\n",
      "\n",
      "See the caveats in the documentation: http://pandas.pydata.org/pandas-docs/stable/indexing.html#indexing-view-versus-copy\n",
      "  \n",
      "C:\\Users\\dkiran\\AppData\\Local\\Continuum\\anaconda3\\lib\\site-packages\\pandas\\core\\frame.py:3141: SettingWithCopyWarning: \n",
      "A value is trying to be set on a copy of a slice from a DataFrame\n",
      "\n",
      "See the caveats in the documentation: http://pandas.pydata.org/pandas-docs/stable/indexing.html#indexing-view-versus-copy\n",
      "  self.loc._setitem_with_indexer((slice(None), indexer), value)\n",
      "C:\\Users\\dkiran\\AppData\\Local\\Continuum\\anaconda3\\lib\\site-packages\\pandas\\core\\frame.py:3113: SettingWithCopyWarning: \n",
      "A value is trying to be set on a copy of a slice from a DataFrame\n",
      "\n",
      "See the caveats in the documentation: http://pandas.pydata.org/pandas-docs/stable/indexing.html#indexing-view-versus-copy\n",
      "  self._setitem_array(key, value)\n"
     ]
    }
   ],
   "source": [
    "for i in list_symptoms9:\n",
    "    validation_df[i]=1"
   ]
  },
  {
   "cell_type": "code",
   "execution_count": 320,
   "metadata": {},
   "outputs": [
    {
     "data": {
      "text/plain": [
       "(1, 232)"
      ]
     },
     "execution_count": 320,
     "metadata": {},
     "output_type": "execute_result"
    }
   ],
   "source": [
    "validation_df.shape"
   ]
  },
  {
   "cell_type": "code",
   "execution_count": 321,
   "metadata": {},
   "outputs": [
    {
     "data": {
      "text/plain": [
       "array(['chronic kidney failure'], dtype='<U34')"
      ]
     },
     "execution_count": 321,
     "metadata": {},
     "output_type": "execute_result"
    }
   ],
   "source": [
    "import pickle\n",
    "f=open('yoga_therpy.pickle','rb')\n",
    "mnb=pickle.load(f)\n",
    "f.close() \n",
    "\n",
    "y_val_pred = mnb.predict(validation_df)\n",
    "y_val_pred"
   ]
  },
  {
   "cell_type": "code",
   "execution_count": 322,
   "metadata": {},
   "outputs": [],
   "source": [
    "y_val_proba = mnb.predict_proba(validation_df)"
   ]
  },
  {
   "cell_type": "code",
   "execution_count": 323,
   "metadata": {
    "scrolled": true
   },
   "outputs": [
    {
     "data": {
      "text/plain": [
       "array([[4.32090152e-05, 6.69271595e-06, 2.96325185e-07, 2.71069852e-04,\n",
       "        6.60509170e-06, 3.20946496e-01, 1.46749100e-05, 1.23860947e-05,\n",
       "        2.23703892e-01, 1.57365761e-06, 4.39393393e-02, 8.92516183e-06,\n",
       "        7.07075700e-06, 5.86861375e-06, 8.15851897e-05, 1.65637446e-01,\n",
       "        8.84379165e-02, 7.97544023e-05, 3.77587008e-05, 1.04385426e-04,\n",
       "        1.54725523e-06, 5.55582079e-03, 4.98955166e-05, 1.65634558e-03,\n",
       "        6.75127018e-05, 1.48650917e-01, 2.65989367e-05, 9.18000006e-06,\n",
       "        1.28605601e-05, 9.65491040e-07, 6.64310622e-06, 5.72382001e-05,\n",
       "        4.54604142e-05, 5.08568406e-04, 3.50101886e-06]])"
      ]
     },
     "execution_count": 323,
     "metadata": {},
     "output_type": "execute_result"
    }
   ],
   "source": [
    "y_val_proba"
   ]
  },
  {
   "cell_type": "code",
   "execution_count": 324,
   "metadata": {},
   "outputs": [],
   "source": [
    "class_prob_pred=mnb.classes_"
   ]
  },
  {
   "cell_type": "code",
   "execution_count": 325,
   "metadata": {},
   "outputs": [
    {
     "data": {
      "text/plain": [
       "array(['PCOD', 'asthma', 'bipolar disorder', 'carcinoma prostate',\n",
       "       'chronic alcoholic intoxication', 'chronic kidney failure',\n",
       "       'chronic obstructive airway disease', 'coronary arteriosclerosis',\n",
       "       'dehydration', 'depressive disorder', 'diabetes', 'epilepsy',\n",
       "       'failure heart', 'failure kidney', 'flat feet', 'gastritis',\n",
       "       'hernia hiatal', 'hyperkyphosis', 'hypertension', 'hypothyroidism',\n",
       "       'influenza', 'irritable bowel syndrome', 'knee pain',\n",
       "       'low blood pressure', 'lower back pain', 'migraine disorders',\n",
       "       'muscle spasticity', 'obesity', 'obesity morbid',\n",
       "       'psychotic disorder', 'respiratory failure', 'shoulder bursitis',\n",
       "       'sinusitis', 'tachycardia sinus', 'tonic-clonic epilepsy'],\n",
       "      dtype='<U34')"
      ]
     },
     "execution_count": 325,
     "metadata": {},
     "output_type": "execute_result"
    }
   ],
   "source": [
    "class_prob_pred"
   ]
  },
  {
   "cell_type": "code",
   "execution_count": null,
   "metadata": {},
   "outputs": [],
   "source": []
  }
 ],
 "metadata": {
  "kernelspec": {
   "display_name": "Python 3",
   "language": "python",
   "name": "python3"
  },
  "language_info": {
   "codemirror_mode": {
    "name": "ipython",
    "version": 3
   },
   "file_extension": ".py",
   "mimetype": "text/x-python",
   "name": "python",
   "nbconvert_exporter": "python",
   "pygments_lexer": "ipython3",
   "version": "3.6.5"
  }
 },
 "nbformat": 4,
 "nbformat_minor": 2
}
